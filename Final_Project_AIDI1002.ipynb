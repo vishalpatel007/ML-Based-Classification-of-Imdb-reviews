{
 "cells": [
  {
   "cell_type": "markdown",
   "metadata": {
    "id": "xSE69ra-PQh2"
   },
   "source": [
    "# **Title: AIDI 1002 Final Term Project Report**\n",
    "\n",
    "#### **Vishal Patel** (200568498)                                    [pv9235295@gmail.com](mailto:pv9235295@gmail.com)\n",
    "\n",
    "#### **Harshilkumar Patel**(200567867)                        [hgpatel181297@gmail.com](mailto:pv9235295@gmail.com)\n"
   ]
  },
  {
   "cell_type": "markdown",
   "metadata": {
    "id": "unKbY0TvPUG8"
   },
   "source": [
    "# **Introduction:**\n",
    "\n",
    "#### **Problem Description:**\n",
    "\n",
    "It is a course project in AIDI1002 Machine Learning Programming at Georgian College in 20203. The project is a Natural Language Processing topic. The languages and relevent packages are Python - Tensorflow - Keras - Scikit-learn. The project aims to classify the IMDb reviews as positive and negative reviews.\n",
    "\n",
    "#### **Context of the Problem:**\n",
    "\n",
    "The problem addressed in the paper shared is machine learning based classification for sentimental analysis of IMDb reviews. The authors propose a novel approach to classify movie reviews into positive or negative categories using machine learning techniques. The proposed method is based on a convolutional neural network (CNN) architecture, which is trained on a dataset of 50,000 movie reviews from IMDb. The authors report that their model outperforms several state-of-the-art models in terms of accuracy and F1 score.\n",
    "\n",
    "#### **Limitation About other Approaches:**\n",
    "\n",
    "The limitations of prior approaches, as briefly mentioned in the introduction, include a focus on a limited set of algorithms for sentiment analysis in the context of IMDb reviews. The existing research primarily explores the application of Naïve Bayes and support vector machine (SVM) algorithms. These approaches may not capture the full spectrum of sentiment analysis possibilities, and there is a need for a more extensive exploration of diverse algorithms to enhance classification accuracy. The paper aims to extend these efforts by evaluating the performance of multiple algorithms, including logistic regression, random forest, boosting, and deep neural networks, to provide a comprehensive understanding of their effectiveness in sentiment analysis.\n",
    "\n",
    "#### **Solution:**\n",
    "\n",
    "In the the paper they shared proposes a novel approach to classify movie reviews into positive or negative categories using machine learning techniques with reporting their model outperforms several state-of-the-art models in terms of accuracy and F1 score."
   ]
  },
  {
   "cell_type": "markdown",
   "metadata": {
    "id": "7u5PgzxGVTAP"
   },
   "source": [
    "# Background\n",
    "\n",
    "Explain the related work using the following table\n",
    "\n",
    "| Reference |Explanation |  Dataset/Input |Weakness\n",
    "| --- | --- | --- | --- |\n",
    "| Tripathy et al| presented a text classification by using Naïve Bayes (NB) and support vector machine (SVM)| IMDB Dataset | results showed that these two algorithms can classify the dataset with high accuracy compared to the other existing research.\n",
    "| Sharma et al| cleaned the data with Word2Vec, and implemented CNN to solve the issues of inconsistent noise in language.| IMDB Dataset | The results showed that CNN was able to extract better features for short sentences categorization.\n",
    "| Vijayaragavan et al | discussed an optimal SVM based classification for the sentimental analysis of online product reviews | IMDB Dataset | research limited on the exploration of different algorithms to better the classification. The report will, therefore, extend the previous research’s effort to more choices of algorithms for a better prediction accuracy."
   ]
  },
  {
   "cell_type": "markdown",
   "metadata": {
    "id": "qY8lBvz5VZXw"
   },
   "source": [
    "# Implementation\n",
    "\n",
    "The dataset consists of 50,000 movie reviews from IMDb, split into training and testing sets. Each set contains 50% positive and 50% negative reviews.Movie ratings are transformed into binary labels (negative if rating < 4, positive if rating > 7).\n",
    "Initially, the code inputs the data, proceeding to clean and preprocess it. Following this step, it eliminates stop words and other unnecessary terms from the original dataset. Subsequently, vectorization methods are employed to convert the textual data into a feature matrix. Lastly, it utilizes six distinct algorithms to both train and test this feature matrix.\n"
   ]
  },
  {
   "cell_type": "markdown",
   "metadata": {
    "id": "3Vx78wSg3kD5"
   },
   "source": [
    "**Data Cleaning and Preprocess**\n",
    "\n",
    "**Data Cleaning:**\n",
    "Remove punctuation, line breaks, numbers, and common stop words.\n",
    "Convert all words to lowercase and normalize to their root form.\n",
    "Vectorization: In the vectorization they applied four different techniques to test the result in different method. It is the process of transforming the text data into numeric representations.\n",
    "Binary Vectorization: Represent data as a binary-valued matrix.\n",
    "Word-Count Vectorization: Replace binary values with word counts.\n",
    "n-grams Vectorization: Include sequences of consecutive words (n-grams).\n",
    "tf-idf Vectorization: Transform based on term frequency-inverse document frequency.\n",
    "\n",
    "After that they implemented six classification models to analyze the sentiment of the context, including logistic regression, support vector machine, Naïve Bayes classifier, random forest classifier, boosting classifier, and deep neural networks.\n",
    "\n",
    "The DNN with binary and 3-grams vectorization achieves a high accuracy of 90.6%, making it distinguish out in terms of accuracy. The DNN can identify complex, non-linear correlations in the dataset since it has five hidden layers. It's important to remember that adding more layers to the DNN could produce even better outcomes. Furthermore, SVM and logistic regression with binary and 3-gram vectorization also perform well, obtaining 90% accuracy in less time. Remarkably, even the 88% accurate Naïve Bayes model with binary and 3-grams vectorization shows good performance. This model is the simplest among the six, indicating there is potential for further improvement in predictive performance.\n"
   ]
  },
  {
   "cell_type": "markdown",
   "metadata": {
    "id": "YIfuj_JcVWN6"
   },
   "source": [
    "# Methodology\n",
    "\n",
    "In the existing methodology, they load the dataset, then moves on to clean and preprocess it. Afterward, stop words and irrelevant terms are excluded from the initial data. Then, all the words are converted to lower cases and normalized to its true root. In the next step, various vectorization techniques are employed to convert the text into a feature matrix. Finally, they implemented six distinct algorithms (logistic regression, support vector machine, Naïve Bayes classifier, random forest classifier, boosting classifier, and deep neural networks) to both train and evaluate the resulting feature matrix.\n",
    "\n",
    "\n",
    "\n",
    "![Alternate text ](Figure.png \"Title of the figure, location is simply the directory of the notebook\")"
   ]
  },
  {
   "cell_type": "code",
   "execution_count": 1,
   "metadata": {
    "colab": {
     "base_uri": "https://localhost:8080/"
    },
    "id": "DSFi--0tAXqo",
    "outputId": "0396692d-753a-4852-b1bc-705065a3a680"
   },
   "outputs": [
    {
     "name": "stderr",
     "output_type": "stream",
     "text": [
      "[nltk_data] Downloading package wordnet to /root/nltk_data...\n"
     ]
    }
   ],
   "source": [
    "import numpy as np\n",
    "import tensorflow as tf\n",
    "import tensorflow_hub as hub\n",
    "import keras\n",
    "import random\n",
    "import matplotlib.pyplot as plt\n",
    "from nltk.corpus import stopwords\n",
    "import re\n",
    "from nltk.stem import WordNetLemmatizer\n",
    "from sklearn.feature_extraction.text import TfidfVectorizer\n",
    "from sklearn.feature_extraction.text import CountVectorizer\n",
    "from sklearn.linear_model import LogisticRegression\n",
    "from sklearn.svm import LinearSVC\n",
    "from sklearn.naive_bayes import MultinomialNB\n",
    "from sklearn.ensemble import RandomForestClassifier\n",
    "from sklearn.ensemble import GradientBoostingClassifier\n",
    "from sklearn.neural_network import MLPClassifier\n",
    "from sklearn.metrics import accuracy_score\n",
    "from sklearn.model_selection import train_test_split\n",
    "from sklearn.model_selection import cross_val_score\n",
    "import nltk\n",
    "nltk.download('wordnet')\n",
    "import os"
   ]
  },
  {
   "cell_type": "markdown",
   "metadata": {
    "id": "6MNwnR2sAX9c"
   },
   "source": [
    "# Data loading"
   ]
  },
  {
   "cell_type": "markdown",
   "metadata": {
    "id": "J6q7GekWl5Um"
   },
   "source": [
    "# N-gram model"
   ]
  },
  {
   "cell_type": "markdown",
   "metadata": {
    "id": "v1KVvEPQ3n0B"
   },
   "source": [
    "## Binary, Word_count, Tfidf\n",
    "\n",
    "*   List item\n",
    "*   List item\n",
    "\n"
   ]
  },
  {
   "cell_type": "code",
   "execution_count": 3,
   "metadata": {
    "id": "pKj3q1F_8Axk"
   },
   "outputs": [],
   "source": [
    "path = '/content/sample_data/final_project/full_train.txt'\n",
    "reviews_train = []\n",
    "for line in open(path, 'r',encoding='latin-1'):\n",
    "    reviews_train.append(line.strip())"
   ]
  },
  {
   "cell_type": "code",
   "execution_count": 4,
   "metadata": {
    "id": "fHtAXKEf_dYD"
   },
   "outputs": [],
   "source": [
    "path = '/content/sample_data/final_project/full_test.txt'\n",
    "reviews_test = []\n",
    "for line in open(path, 'r',encoding='latin-1'):\n",
    "    reviews_test.append(line.strip())"
   ]
  },
  {
   "cell_type": "code",
   "execution_count": 5,
   "metadata": {
    "id": "kEjgPTA3AJdj"
   },
   "outputs": [],
   "source": [
    "train_label = [1 if i < 12500 else 0 for i in range(25000)]\n",
    "test_label = [1 if i < 12500 else 0 for i in range(25000)]"
   ]
  },
  {
   "cell_type": "code",
   "execution_count": 6,
   "metadata": {
    "id": "0wahUQpiCkyN"
   },
   "outputs": [],
   "source": [
    "X_train, X_val, y_train, y_val = train_test_split(\n",
    "    reviews_train, train_label, train_size=0.8\n",
    ")"
   ]
  },
  {
   "cell_type": "code",
   "execution_count": 7,
   "metadata": {
    "id": "fkxWUKC012bW"
   },
   "outputs": [],
   "source": [
    "REPLACE_NO_SPACE = re.compile(\"[.;:!\\'?,\\\"()\\[\\]]\")\n",
    "REPLACE_WITH_SPACE = re.compile(\"(<br\\s*/><br\\s*/>)|(\\-)|(\\/)\")\n",
    "def preprocess_reviews(reviews):\n",
    "  reviews = [REPLACE_NO_SPACE.sub(\"\", line.lower()) for line in reviews]\n",
    "  reviews = [REPLACE_WITH_SPACE.sub(\" \", line) for line in reviews]\n",
    "  return reviews\n",
    "\n",
    "reviews_train_clean = preprocess_reviews(X_train)\n",
    "reviews_val_clean = preprocess_reviews(X_val)\n",
    "reviews_test_clean = preprocess_reviews(reviews_test)"
   ]
  },
  {
   "cell_type": "code",
   "execution_count": 8,
   "metadata": {
    "id": "Mm-khBYL1oT9"
   },
   "outputs": [],
   "source": [
    "def get_lemmatized_text(corpus):\n",
    "  lemmatizer = WordNetLemmatizer()\n",
    "  return [' '.join([lemmatizer.lemmatize(word) for word in review.split()]) for review in corpus]\n",
    "\n",
    "reviews_train_clean = get_lemmatized_text(reviews_train_clean)\n",
    "reviews_val_clean = get_lemmatized_text(reviews_val_clean)\n",
    "reviews_test_clean = get_lemmatized_text(reviews_test_clean)"
   ]
  },
  {
   "cell_type": "markdown",
   "metadata": {
    "id": "goj3PFPA36u0"
   },
   "source": [
    "In our contribution, we applied XGBoost algorithm in addition to six classification algorithms which already applied in this paper.\n",
    "\n",
    "We implemented XGBoost algorithm to see the performance of this model on the sentiment analysis of IMDb reviews. This algorithm is known for its effectiveness in handling complex relationships within the data.\n",
    "\n",
    "First, we did text cleaning process. In this text preprocessing we removed punctuation, stop words, and irrelevant terms. After that we applied lemmatization technique that involves reducing words to their base or root form. It helps in addressing the issue of lexical variations by transforming words to a common base form.\n",
    "\n",
    "After that we implemented three vectorization techniques (Binary, Count, and Tf-idf) to convert the textual data into a format suitable for machine learning models. Then we applied XGBoost algorithm on all these three vectorization techniques and verify the accuracy on both validation and test dataset for three different vectorization technique.\n",
    "\n",
    "From the result we can say that we got more accuracy in count vectorization compared to other two vectorizations when we applied XGBoost algorithm.\n"
   ]
  },
  {
   "cell_type": "code",
   "execution_count": null,
   "metadata": {
    "id": "EYu1bgR26xpb"
   },
   "outputs": [],
   "source": [
    "models = []\n",
    "models.append(('Logistic', LogisticRegression(C=0.05)))\n",
    "models.append(('RF', RandomForestClassifier()))\n",
    "models.append(('Boosting', GradientBoostingClassifier(max_depth= 5)))\n",
    "models.append(('SVC', LinearSVC(C=0.05)))\n",
    "# models.append(('DNN', MLPClassifier(hidden_layer_sizes=(30,30,20,10,10), activation='logistic', early_stopping=True)))\n",
    "stop_words = ['in', 'of', 'at', 'a', 'the']\n",
    "preprocessing = []\n",
    "preprocessing.append(('Binary', CountVectorizer(binary=True, stop_words=stop_words)))\n",
    "preprocessing.append(('Count', CountVectorizer(binary=False, ngram_range=(1,3), stop_words=stop_words)))\n",
    "preprocessing.append(('Tf-idf', TfidfVectorizer(ngram_range=(1, 3), stop_words=stop_words)))\n",
    "# evaluate each model in turn\n",
    "val_accuracy = []\n",
    "test_accuracy = []\n",
    "names = []\n",
    "for preprocess_name, preprocess_method in preprocessing:\n",
    "  preprocess_method = preprocess_method.fit(reviews_train_clean)\n",
    "  X_train = preprocess_method.transform(reviews_train_clean)\n",
    "  X_val = preprocess_method.transform(reviews_val_clean)\n",
    "  X_test = preprocess_method.transform(reviews_test_clean)\n",
    "  for name, model in models:\n",
    "    model.fit(X_train, y_train)\n",
    "    val_label = model.predict(X_val)\n",
    "    val_accuracy.append(accuracy_score(val_label, y_val))\n",
    "    y_pred = model.predict(X_test)\n",
    "    test_accuracy.append(accuracy_score(test_label, y_pred))\n",
    "    names.append(name + '-' + preprocess_name)\n",
    "    print('%s val_accuracy: %f, test_accuracy: %f' % (name + '-' + preprocess_name, accuracy_score(val_label, y_val), accuracy_score(test_label, y_pred)))"
   ]
  },
  {
   "cell_type": "code",
   "execution_count": 11,
   "metadata": {
    "colab": {
     "base_uri": "https://localhost:8080/"
    },
    "id": "VFc7WAMNaQMT",
    "outputId": "dcf6206a-a71b-4738-833a-dbba1967ba77"
   },
   "outputs": [
    {
     "name": "stdout",
     "output_type": "stream",
     "text": [
      "XGBoost-Binary val_accuracy: 0.856200, test_accuracy: 0.852600\n",
      "XGBoost-Count val_accuracy: 0.864400, test_accuracy: 0.861480\n",
      "XGBoost-Tf-idf val_accuracy: 0.847600, test_accuracy: 0.849360\n"
     ]
    }
   ],
   "source": [
    "from xgboost import XGBClassifier\n",
    "\n",
    "models = []\n",
    "models.append(('XGBoost', XGBClassifier()))\n",
    "stop_words = ['in', 'of', 'at', 'a', 'the']\n",
    "preprocessing = []\n",
    "preprocessing.append(('Binary', CountVectorizer(binary=True, stop_words=stop_words)))\n",
    "preprocessing.append(('Count', CountVectorizer(binary=False, ngram_range=(1,3), stop_words=stop_words)))\n",
    "preprocessing.append(('Tf-idf', TfidfVectorizer(ngram_range=(1, 3), stop_words=stop_words)))\n",
    "# evaluate each model in turn\n",
    "val_accuracy = []\n",
    "test_accuracy = []\n",
    "names = []\n",
    "for preprocess_name, preprocess_method in preprocessing:\n",
    "  preprocess_method = preprocess_method.fit(reviews_train_clean)\n",
    "  X_train = preprocess_method.transform(reviews_train_clean)\n",
    "  X_val = preprocess_method.transform(reviews_val_clean)\n",
    "  X_test = preprocess_method.transform(reviews_test_clean)\n",
    "  for name, model in models:\n",
    "    model.fit(X_train, y_train)\n",
    "    val_label = model.predict(X_val)\n",
    "    val_accuracy.append(accuracy_score(val_label, y_val))\n",
    "    y_pred = model.predict(X_test)\n",
    "    test_accuracy.append(accuracy_score(test_label, y_pred))\n",
    "    names.append(name + '-' + preprocess_name)\n",
    "    print('%s val_accuracy: %f, test_accuracy: %f' % (name + '-' + preprocess_name, accuracy_score(val_label, y_val), accuracy_score(test_label, y_pred)))"
   ]
  },
  {
   "cell_type": "code",
   "execution_count": 14,
   "metadata": {
    "colab": {
     "base_uri": "https://localhost:8080/"
    },
    "id": "tiEz6IHa2jJ8",
    "outputId": "b9916185-d963-4e72-c8dc-f8d95026fbe9"
   },
   "outputs": [
    {
     "name": "stdout",
     "output_type": "stream",
     "text": [
      "Classification Report:\n",
      "              precision    recall  f1-score   support\n",
      "\n",
      "           0       0.87      0.83      0.85     12500\n",
      "           1       0.83      0.87      0.85     12500\n",
      "\n",
      "    accuracy                           0.85     25000\n",
      "   macro avg       0.85      0.85      0.85     25000\n",
      "weighted avg       0.85      0.85      0.85     25000\n",
      "\n",
      "Confusion Matrix:\n",
      "[[10333  2167]\n",
      " [ 1599 10901]]\n"
     ]
    }
   ],
   "source": [
    "from sklearn.metrics import classification_report, confusion_matrix\n",
    "\n",
    "# Classification Report\n",
    "print('Classification Report:')\n",
    "print(classification_report(test_label, y_pred))\n",
    "\n",
    "# Confusion Matrix\n",
    "print('Confusion Matrix:')\n",
    "print(confusion_matrix(test_label, y_pred))"
   ]
  },
  {
   "cell_type": "code",
   "execution_count": 12,
   "metadata": {
    "colab": {
     "base_uri": "https://localhost:8080/",
     "height": 790
    },
    "id": "DCgKFMbDi5hn",
    "outputId": "a910c5e2-37b6-41bd-fe3e-f6113db47dc3"
   },
   "outputs": [
    {
     "data": {
      "image/png": "[encoded data removed]",
      "text/plain": [
       "<Figure size 2000x1000 with 1 Axes>"
      ]
     },
     "metadata": {},
     "output_type": "display_data"
    }
   ],
   "source": [
    "x = np.arange(len(names))\n",
    "\n",
    "width = 0.3\n",
    "plt.figure(figsize = (20, 10))\n",
    "plt.bar(x - 0.17, val_accuracy, width, label='Validation')\n",
    "plt.bar(x + 0.17, test_accuracy, width, label='Test')\n",
    "plt.xticks(ticks=x, labels=names,\n",
    "           rotation=45)\n",
    "for index, value in enumerate(val_accuracy):\n",
    "    plt.text(index - 0.4, value+0.01, str(value)[0:4])\n",
    "for index, value in enumerate(test_accuracy):\n",
    "    plt.text(index + 0.04, value + 0.01, str(value)[0:4])\n",
    "plt.ylabel(f'Accuracy for different models')\n",
    "_ = plt.legend()"
   ]
  },
  {
   "cell_type": "markdown",
   "metadata": {
    "id": "d4oCjLg30LLS"
   },
   "source": [
    "# Reference\n",
    "\n",
    "\n",
    "\n",
    "*   https://towardsdatascience.com/sentiment-analysis-with-python-part-1-5ce197074184\n",
    "*   https://towardsdatascience.com/sentiment-analysis-with-python-part-2-4f71e7bde59a\n",
    "*   https://www.tensorflow.org/tutorials/text/word_embeddings\n",
    "*   https://www.tensorflow.org/tutorials/text/text_classification_rnn\n",
    "*   https://www.tensorflow.org/tutorials/text/classify_text_with_bert\n"
   ]
  },
  {
   "cell_type": "markdown",
   "metadata": {
    "id": "FC3QIIS_VchM"
   },
   "source": [
    "# Conclusion and Future Direction\n",
    "\n",
    "In this project, We've learned the intricacies of implementing sentiment analysis and question answering tasks using various machine learning models. The results highlighted the importance of preprocessing techniques, such as lemmatization and vectorization, in enhancing model performance. The introduction of XGBoost showcased its effectiveness in capturing complex relationships within the data.\n",
    "\n",
    "However, the limitations were evident, particularly in the evaluation of domain-specific data. The models may not generalize well to specialized domains, emphasizing the need for diverse datasets and further fine-tuning. Additionally, the interpretability of the models could be a potential area for improvement.\n",
    "\n",
    "Looking ahead, future extensions could involve exploring advanced neural network architectures, incorporating domain-specific embeddings, and addressing model interpretability. The project underscored the iterative nature of machine learning, encouraging continuous refinement for broader applicability and deeper insights."
   ]
  }
 ],
 "metadata": {
  "accelerator": "GPU",
  "colab": {
   "gpuType": "T4",
   "provenance": []
  },
  "kernelspec": {
   "display_name": "Python 3 (ipykernel)",
   "language": "python",
   "name": "python3"
  },
  "language_info": {
   "codemirror_mode": {
    "name": "ipython",
    "version": 3
   },
   "file_extension": ".py",
   "mimetype": "text/x-python",
   "name": "python",
   "nbconvert_exporter": "python",
   "pygments_lexer": "ipython3",
   "version": "3.11.4"
  }
 },
 "nbformat": 4,
 "nbformat_minor": 1
}
